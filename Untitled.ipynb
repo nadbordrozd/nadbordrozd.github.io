{
 "cells": [
  {
   "cell_type": "code",
   "execution_count": 44,
   "metadata": {
    "collapsed": true
   },
   "outputs": [],
   "source": [
    "from collections import Counter\n",
    "def fac(n):\n",
    "    if n < 2:\n",
    "        return 1\n",
    "    else:\n",
    "        return n * fac(n-1)\n",
    "    \n",
    "    \n",
    "def variations(nums):\n",
    "    tot = fac(sum(nums))\n",
    "    for n in nums:\n",
    "        tot /= fac(n)\n",
    "    return tot"
   ]
  },
  {
   "cell_type": "code",
   "execution_count": 2,
   "metadata": {
    "collapsed": false
   },
   "outputs": [
    {
     "data": {
      "text/plain": [
       "6"
      ]
     },
     "execution_count": 2,
     "metadata": {},
     "output_type": "execute_result"
    }
   ],
   "source": [
    "variations([2,2])"
   ]
  },
  {
   "cell_type": "code",
   "execution_count": 4,
   "metadata": {
    "collapsed": true
   },
   "outputs": [],
   "source": [
    "ounter = Counter('aba')"
   ]
  },
  {
   "cell_type": "code",
   "execution_count": 8,
   "metadata": {
    "collapsed": false
   },
   "outputs": [],
   "source": [
    "ounter['b'] -= 1"
   ]
  },
  {
   "cell_type": "code",
   "execution_count": 14,
   "metadata": {
    "collapsed": false
   },
   "outputs": [],
   "source": [
    "ounter.update('b')"
   ]
  },
  {
   "cell_type": "code",
   "execution_count": 15,
   "metadata": {
    "collapsed": false
   },
   "outputs": [
    {
     "data": {
      "text/plain": [
       "Counter({'a': 2, 'b': 0, 'c': 2})"
      ]
     },
     "execution_count": 15,
     "metadata": {},
     "output_type": "execute_result"
    }
   ],
   "source": [
    "ounter"
   ]
  },
  {
   "cell_type": "code",
   "execution_count": 34,
   "metadata": {
    "collapsed": true
   },
   "outputs": [],
   "source": [
    "from collections import Counter\n",
    "def fac(n):\n",
    "    if n < 2:\n",
    "        return 1\n",
    "    else:\n",
    "        return n * fac(n-1)\n",
    "    \n",
    "    \n",
    "def variations(nums):\n",
    "    tot = fac(sum(nums))\n",
    "    for n in nums:\n",
    "        tot /= fac(n)\n",
    "    return tot\n",
    "\n",
    "def count_less(word):\n",
    "#     print 'doing', word\n",
    "    if len(word) < 2:\n",
    "        return 0\n",
    "    \n",
    "    c = word[0]\n",
    "    char2count = Counter(word[1:])\n",
    "    ord_counts = sorted(char2count.items())\n",
    "    \n",
    "    tot = count_less(word[1:])\n",
    "    i = 0\n",
    "#     print 'about to enter loop with', c, word\n",
    "    while i < len(ord_counts) and c > ord_counts[i][0]:\n",
    "        char2count.update(c)\n",
    "        smaller_c = ord_counts[i][0]\n",
    "        char2count[smaller_c] -= 1\n",
    "        \n",
    "        counts = [cnt for cha, cnt in char2count.items() if cnt > 0]\n",
    "        tot += variations(counts)\n",
    "        char2count.update(smaller_c)\n",
    "        char2count[c] -= 1\n",
    "        i += 1\n",
    "        \n",
    "    return tot\n",
    "        "
   ]
  },
  {
   "cell_type": "code",
   "execution_count": 37,
   "metadata": {
    "collapsed": false
   },
   "outputs": [
    {
     "name": "stdout",
     "output_type": "stream",
     "text": [
      "doing BOOKKEEPER\n",
      "doing OOKKEEPER\n",
      "doing OKKEEPER\n",
      "doing KKEEPER\n",
      "doing KEEPER\n",
      "doing EEPER\n",
      "doing EPER\n",
      "doing PER\n",
      "doing ER\n",
      "doing R\n",
      "returning 0\n"
     ]
    },
    {
     "data": {
      "text/plain": [
       "10743"
      ]
     },
     "execution_count": 37,
     "metadata": {},
     "output_type": "execute_result"
    }
   ],
   "source": [
    "count_less('BOOKKEEPER') + 1"
   ]
  },
  {
   "cell_type": "code",
   "execution_count": 50,
   "metadata": {
    "collapsed": true
   },
   "outputs": [],
   "source": [
    "from collections import Counter\n",
    "def factorize(n):\n",
    "    i = 2\n",
    "    factors = []\n",
    "    while n > 1:\n",
    "        if n % i == 0:\n",
    "            factors.append(i)\n",
    "            n /= i\n",
    "        else:\n",
    "            i += 1\n",
    "    return Counter(factors)\n",
    "\n",
    "def count_factorial_factors(n, p):\n",
    "    tot = 0\n",
    "    while n > 1:\n",
    "        n /= p\n",
    "        tot += n\n",
    "    return tot\n",
    "\n",
    "def zeroes(base, number):\n",
    "    return min([\n",
    "        count_factorial_factors(number, p) / exp\n",
    "        for p, exp in factorize(base).items()\n",
    "    ])"
   ]
  },
  {
   "cell_type": "code",
   "execution_count": 42,
   "metadata": {
    "collapsed": false
   },
   "outputs": [],
   "source": [
    "def zeroes(base, number):\n",
    "    b = factorize(base)[-1]\n",
    "    \n",
    "    tot = 0\n",
    "    while number > 1:\n",
    "        number /= b\n",
    "        tot += number\n",
    "    return tot"
   ]
  },
  {
   "cell_type": "code",
   "execution_count": 51,
   "metadata": {
    "collapsed": false
   },
   "outputs": [],
   "source": [
    "f10 = fac(10) "
   ]
  },
  {
   "cell_type": "code",
   "execution_count": 52,
   "metadata": {
    "collapsed": false
   },
   "outputs": [
    {
     "data": {
      "text/plain": [
       "24"
      ]
     },
     "execution_count": 52,
     "metadata": {},
     "output_type": "execute_result"
    }
   ],
   "source": [
    "zeroes(10, 100)"
   ]
  },
  {
   "cell_type": "code",
   "execution_count": 48,
   "metadata": {
    "collapsed": false
   },
   "outputs": [
    {
     "data": {
      "text/plain": [
       "226800"
      ]
     },
     "execution_count": 48,
     "metadata": {},
     "output_type": "execute_result"
    }
   ],
   "source": [
    "f10 / 16"
   ]
  },
  {
   "cell_type": "code",
   "execution_count": 49,
   "metadata": {
    "collapsed": false
   },
   "outputs": [
    {
     "data": {
      "text/plain": [
       "[16]"
      ]
     },
     "execution_count": 49,
     "metadata": {},
     "output_type": "execute_result"
    }
   ],
   "source": [
    "factorize(16)"
   ]
  },
  {
   "cell_type": "code",
   "execution_count": null,
   "metadata": {
    "collapsed": true
   },
   "outputs": [],
   "source": []
  }
 ],
 "metadata": {
  "kernelspec": {
   "display_name": "Python 2",
   "language": "python",
   "name": "python2"
  },
  "language_info": {
   "codemirror_mode": {
    "name": "ipython",
    "version": 2
   },
   "file_extension": ".py",
   "mimetype": "text/x-python",
   "name": "python",
   "nbconvert_exporter": "python",
   "pygments_lexer": "ipython2",
   "version": "2.7.10"
  }
 },
 "nbformat": 4,
 "nbformat_minor": 0
}
